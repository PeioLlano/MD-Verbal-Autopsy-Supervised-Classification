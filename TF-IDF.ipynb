{
 "cells": [
  {
   "cell_type": "markdown",
   "id": "c6c3537c",
   "metadata": {},
   "source": [
    "<center><h1>Verbal Autopsy Clustering</h1></center>"
   ]
  },
  {
   "cell_type": "code",
   "execution_count": 1,
   "id": "46271617",
   "metadata": {},
   "outputs": [],
   "source": [
    "import pandas as pd\n",
    "import numpy as np\n",
    "import matplotlib.pyplot as plt\n",
    "import string\n",
    "import nltk\n",
    "from nltk.corpus import stopwords\n",
    "import contractions\n",
    "from nltk.stem import WordNetLemmatizer\n",
    "import re\n",
    "from nltk.stem import PorterStemmer\n",
    "import seaborn as sb"
   ]
  },
  {
   "cell_type": "markdown",
   "id": "0ab8afb2",
   "metadata": {},
   "source": [
    "<hr>"
   ]
  },
  {
   "attachments": {},
   "cell_type": "markdown",
   "id": "430c804d",
   "metadata": {},
   "source": [
    "<h1>TF-IDF</h1>"
   ]
  },
  {
   "cell_type": "markdown",
   "id": "9311273b",
   "metadata": {},
   "source": [
    "<h2>Hold-Out</h2>"
   ]
  },
  {
   "cell_type": "code",
   "execution_count": 24,
   "id": "fa160f6e",
   "metadata": {},
   "outputs": [
    {
     "data": {
      "text/html": [
       "<div>\n",
       "<style scoped>\n",
       "    .dataframe tbody tr th:only-of-type {\n",
       "        vertical-align: middle;\n",
       "    }\n",
       "\n",
       "    .dataframe tbody tr th {\n",
       "        vertical-align: top;\n",
       "    }\n",
       "\n",
       "    .dataframe thead th {\n",
       "        text-align: right;\n",
       "    }\n",
       "</style>\n",
       "<table border=\"1\" class=\"dataframe\">\n",
       "  <thead>\n",
       "    <tr style=\"text-align: right;\">\n",
       "      <th></th>\n",
       "      <th>abdomen</th>\n",
       "      <th>abdominal</th>\n",
       "      <th>able</th>\n",
       "      <th>accident</th>\n",
       "      <th>according</th>\n",
       "      <th>ache</th>\n",
       "      <th>administered</th>\n",
       "      <th>admission</th>\n",
       "      <th>admit</th>\n",
       "      <th>admitted</th>\n",
       "      <th>...</th>\n",
       "      <th>worsen</th>\n",
       "      <th>worsened</th>\n",
       "      <th>worst</th>\n",
       "      <th>wound</th>\n",
       "      <th>wrong</th>\n",
       "      <th>xray</th>\n",
       "      <th>year</th>\n",
       "      <th>yellow</th>\n",
       "      <th>yellowish</th>\n",
       "      <th>young</th>\n",
       "    </tr>\n",
       "  </thead>\n",
       "  <tbody>\n",
       "    <tr>\n",
       "      <th>5204</th>\n",
       "      <td>0.242315</td>\n",
       "      <td>0.0</td>\n",
       "      <td>0.0</td>\n",
       "      <td>0.0</td>\n",
       "      <td>0.0</td>\n",
       "      <td>0.0</td>\n",
       "      <td>0.0</td>\n",
       "      <td>0.0</td>\n",
       "      <td>0.0</td>\n",
       "      <td>0.298077</td>\n",
       "      <td>...</td>\n",
       "      <td>0.0</td>\n",
       "      <td>0.0</td>\n",
       "      <td>0.0</td>\n",
       "      <td>0.0</td>\n",
       "      <td>0.0</td>\n",
       "      <td>0.0</td>\n",
       "      <td>0.132404</td>\n",
       "      <td>0.0</td>\n",
       "      <td>0.0</td>\n",
       "      <td>0.0</td>\n",
       "    </tr>\n",
       "    <tr>\n",
       "      <th>5205</th>\n",
       "      <td>0.000000</td>\n",
       "      <td>0.0</td>\n",
       "      <td>0.0</td>\n",
       "      <td>0.0</td>\n",
       "      <td>0.0</td>\n",
       "      <td>0.0</td>\n",
       "      <td>0.0</td>\n",
       "      <td>0.0</td>\n",
       "      <td>0.0</td>\n",
       "      <td>0.000000</td>\n",
       "      <td>...</td>\n",
       "      <td>0.0</td>\n",
       "      <td>0.0</td>\n",
       "      <td>0.0</td>\n",
       "      <td>0.0</td>\n",
       "      <td>0.0</td>\n",
       "      <td>0.0</td>\n",
       "      <td>0.000000</td>\n",
       "      <td>0.0</td>\n",
       "      <td>0.0</td>\n",
       "      <td>0.0</td>\n",
       "    </tr>\n",
       "    <tr>\n",
       "      <th>5206</th>\n",
       "      <td>0.000000</td>\n",
       "      <td>0.0</td>\n",
       "      <td>0.0</td>\n",
       "      <td>0.0</td>\n",
       "      <td>0.0</td>\n",
       "      <td>0.0</td>\n",
       "      <td>0.0</td>\n",
       "      <td>0.0</td>\n",
       "      <td>0.0</td>\n",
       "      <td>0.202922</td>\n",
       "      <td>...</td>\n",
       "      <td>0.0</td>\n",
       "      <td>0.0</td>\n",
       "      <td>0.0</td>\n",
       "      <td>0.0</td>\n",
       "      <td>0.0</td>\n",
       "      <td>0.0</td>\n",
       "      <td>0.090137</td>\n",
       "      <td>0.0</td>\n",
       "      <td>0.0</td>\n",
       "      <td>0.0</td>\n",
       "    </tr>\n",
       "    <tr>\n",
       "      <th>5207</th>\n",
       "      <td>0.000000</td>\n",
       "      <td>0.0</td>\n",
       "      <td>0.0</td>\n",
       "      <td>0.0</td>\n",
       "      <td>0.0</td>\n",
       "      <td>0.0</td>\n",
       "      <td>0.0</td>\n",
       "      <td>0.0</td>\n",
       "      <td>0.0</td>\n",
       "      <td>0.000000</td>\n",
       "      <td>...</td>\n",
       "      <td>0.0</td>\n",
       "      <td>0.0</td>\n",
       "      <td>0.0</td>\n",
       "      <td>0.0</td>\n",
       "      <td>0.0</td>\n",
       "      <td>0.0</td>\n",
       "      <td>0.000000</td>\n",
       "      <td>0.0</td>\n",
       "      <td>0.0</td>\n",
       "      <td>0.0</td>\n",
       "    </tr>\n",
       "    <tr>\n",
       "      <th>5208</th>\n",
       "      <td>0.000000</td>\n",
       "      <td>0.0</td>\n",
       "      <td>0.0</td>\n",
       "      <td>0.0</td>\n",
       "      <td>0.0</td>\n",
       "      <td>0.0</td>\n",
       "      <td>0.0</td>\n",
       "      <td>0.0</td>\n",
       "      <td>0.0</td>\n",
       "      <td>0.000000</td>\n",
       "      <td>...</td>\n",
       "      <td>0.0</td>\n",
       "      <td>0.0</td>\n",
       "      <td>0.0</td>\n",
       "      <td>0.0</td>\n",
       "      <td>0.0</td>\n",
       "      <td>0.0</td>\n",
       "      <td>0.000000</td>\n",
       "      <td>0.0</td>\n",
       "      <td>0.0</td>\n",
       "      <td>0.0</td>\n",
       "    </tr>\n",
       "  </tbody>\n",
       "</table>\n",
       "<p>5 rows × 805 columns</p>\n",
       "</div>"
      ],
      "text/plain": [
       "       abdomen  abdominal  able  accident  according  ache  administered  \\\n",
       "5204  0.242315        0.0   0.0       0.0        0.0   0.0           0.0   \n",
       "5205  0.000000        0.0   0.0       0.0        0.0   0.0           0.0   \n",
       "5206  0.000000        0.0   0.0       0.0        0.0   0.0           0.0   \n",
       "5207  0.000000        0.0   0.0       0.0        0.0   0.0           0.0   \n",
       "5208  0.000000        0.0   0.0       0.0        0.0   0.0           0.0   \n",
       "\n",
       "      admission  admit  admitted  ...  worsen  worsened  worst  wound  wrong  \\\n",
       "5204        0.0    0.0  0.298077  ...     0.0       0.0    0.0    0.0    0.0   \n",
       "5205        0.0    0.0  0.000000  ...     0.0       0.0    0.0    0.0    0.0   \n",
       "5206        0.0    0.0  0.202922  ...     0.0       0.0    0.0    0.0    0.0   \n",
       "5207        0.0    0.0  0.000000  ...     0.0       0.0    0.0    0.0    0.0   \n",
       "5208        0.0    0.0  0.000000  ...     0.0       0.0    0.0    0.0    0.0   \n",
       "\n",
       "      xray      year  yellow  yellowish  young  \n",
       "5204   0.0  0.132404     0.0        0.0    0.0  \n",
       "5205   0.0  0.000000     0.0        0.0    0.0  \n",
       "5206   0.0  0.090137     0.0        0.0    0.0  \n",
       "5207   0.0  0.000000     0.0        0.0    0.0  \n",
       "5208   0.0  0.000000     0.0        0.0    0.0  \n",
       "\n",
       "[5 rows x 805 columns]"
      ]
     },
     "execution_count": 24,
     "metadata": {},
     "output_type": "execute_result"
    }
   ],
   "source": [
    "data = pd.read_csv(\"data_output/tf_idf.csv\")\n",
    "data.drop(data.columns[[0]], axis=1, inplace=True)\n",
    "data.tail(5)"
   ]
  },
  {
   "cell_type": "code",
   "execution_count": 25,
   "id": "c29980bb",
   "metadata": {},
   "outputs": [
    {
     "data": {
      "text/html": [
       "<div>\n",
       "<style scoped>\n",
       "    .dataframe tbody tr th:only-of-type {\n",
       "        vertical-align: middle;\n",
       "    }\n",
       "\n",
       "    .dataframe tbody tr th {\n",
       "        vertical-align: top;\n",
       "    }\n",
       "\n",
       "    .dataframe thead th {\n",
       "        text-align: right;\n",
       "    }\n",
       "</style>\n",
       "<table border=\"1\" class=\"dataframe\">\n",
       "  <thead>\n",
       "    <tr style=\"text-align: right;\">\n",
       "      <th></th>\n",
       "      <th>module</th>\n",
       "      <th>age</th>\n",
       "      <th>sex</th>\n",
       "      <th>site</th>\n",
       "    </tr>\n",
       "  </thead>\n",
       "  <tbody>\n",
       "    <tr>\n",
       "      <th>5204</th>\n",
       "      <td>0</td>\n",
       "      <td>42.0</td>\n",
       "      <td>1</td>\n",
       "      <td>5</td>\n",
       "    </tr>\n",
       "    <tr>\n",
       "      <th>5205</th>\n",
       "      <td>0</td>\n",
       "      <td>14.0</td>\n",
       "      <td>2</td>\n",
       "      <td>4</td>\n",
       "    </tr>\n",
       "    <tr>\n",
       "      <th>5206</th>\n",
       "      <td>0</td>\n",
       "      <td>80.0</td>\n",
       "      <td>2</td>\n",
       "      <td>5</td>\n",
       "    </tr>\n",
       "    <tr>\n",
       "      <th>5207</th>\n",
       "      <td>0</td>\n",
       "      <td>70.0</td>\n",
       "      <td>1</td>\n",
       "      <td>5</td>\n",
       "    </tr>\n",
       "    <tr>\n",
       "      <th>5208</th>\n",
       "      <td>0</td>\n",
       "      <td>30.0</td>\n",
       "      <td>1</td>\n",
       "      <td>2</td>\n",
       "    </tr>\n",
       "  </tbody>\n",
       "</table>\n",
       "</div>"
      ],
      "text/plain": [
       "      module   age  sex  site\n",
       "5204       0  42.0    1     5\n",
       "5205       0  14.0    2     4\n",
       "5206       0  80.0    2     5\n",
       "5207       0  70.0    1     5\n",
       "5208       0  30.0    1     2"
      ]
     },
     "execution_count": 25,
     "metadata": {},
     "output_type": "execute_result"
    }
   ],
   "source": [
    "dataB = pd.read_csv(\"data_output/preproceso.csv\")\n",
    "dataB.drop(\"Unnamed: 0\", axis=1, inplace=True)\n",
    "dataB.drop(\"open_response\", axis=1, inplace=True)\n",
    "dataB.drop(\"gs_text34\", axis=1, inplace=True)\n",
    "dataB.tail(5)\n"
   ]
  },
  {
   "cell_type": "code",
   "execution_count": 26,
   "id": "8580d1ca",
   "metadata": {},
   "outputs": [
    {
     "data": {
      "text/html": [
       "<div>\n",
       "<style scoped>\n",
       "    .dataframe tbody tr th:only-of-type {\n",
       "        vertical-align: middle;\n",
       "    }\n",
       "\n",
       "    .dataframe tbody tr th {\n",
       "        vertical-align: top;\n",
       "    }\n",
       "\n",
       "    .dataframe thead th {\n",
       "        text-align: right;\n",
       "    }\n",
       "</style>\n",
       "<table border=\"1\" class=\"dataframe\">\n",
       "  <thead>\n",
       "    <tr style=\"text-align: right;\">\n",
       "      <th></th>\n",
       "      <th>module</th>\n",
       "      <th>age</th>\n",
       "      <th>sex</th>\n",
       "      <th>site</th>\n",
       "      <th>abdomen</th>\n",
       "      <th>abdominal</th>\n",
       "      <th>able</th>\n",
       "      <th>accident</th>\n",
       "      <th>according</th>\n",
       "      <th>ache</th>\n",
       "      <th>...</th>\n",
       "      <th>worsen</th>\n",
       "      <th>worsened</th>\n",
       "      <th>worst</th>\n",
       "      <th>wound</th>\n",
       "      <th>wrong</th>\n",
       "      <th>xray</th>\n",
       "      <th>year</th>\n",
       "      <th>yellow</th>\n",
       "      <th>yellowish</th>\n",
       "      <th>young</th>\n",
       "    </tr>\n",
       "  </thead>\n",
       "  <tbody>\n",
       "    <tr>\n",
       "      <th>5204</th>\n",
       "      <td>0</td>\n",
       "      <td>42.0</td>\n",
       "      <td>1</td>\n",
       "      <td>5</td>\n",
       "      <td>0.242315</td>\n",
       "      <td>0.0</td>\n",
       "      <td>0.0</td>\n",
       "      <td>0.0</td>\n",
       "      <td>0.0</td>\n",
       "      <td>0.0</td>\n",
       "      <td>...</td>\n",
       "      <td>0.0</td>\n",
       "      <td>0.0</td>\n",
       "      <td>0.0</td>\n",
       "      <td>0.0</td>\n",
       "      <td>0.0</td>\n",
       "      <td>0.0</td>\n",
       "      <td>0.132404</td>\n",
       "      <td>0.0</td>\n",
       "      <td>0.0</td>\n",
       "      <td>0.0</td>\n",
       "    </tr>\n",
       "    <tr>\n",
       "      <th>5205</th>\n",
       "      <td>0</td>\n",
       "      <td>14.0</td>\n",
       "      <td>2</td>\n",
       "      <td>4</td>\n",
       "      <td>0.000000</td>\n",
       "      <td>0.0</td>\n",
       "      <td>0.0</td>\n",
       "      <td>0.0</td>\n",
       "      <td>0.0</td>\n",
       "      <td>0.0</td>\n",
       "      <td>...</td>\n",
       "      <td>0.0</td>\n",
       "      <td>0.0</td>\n",
       "      <td>0.0</td>\n",
       "      <td>0.0</td>\n",
       "      <td>0.0</td>\n",
       "      <td>0.0</td>\n",
       "      <td>0.000000</td>\n",
       "      <td>0.0</td>\n",
       "      <td>0.0</td>\n",
       "      <td>0.0</td>\n",
       "    </tr>\n",
       "    <tr>\n",
       "      <th>5206</th>\n",
       "      <td>0</td>\n",
       "      <td>80.0</td>\n",
       "      <td>2</td>\n",
       "      <td>5</td>\n",
       "      <td>0.000000</td>\n",
       "      <td>0.0</td>\n",
       "      <td>0.0</td>\n",
       "      <td>0.0</td>\n",
       "      <td>0.0</td>\n",
       "      <td>0.0</td>\n",
       "      <td>...</td>\n",
       "      <td>0.0</td>\n",
       "      <td>0.0</td>\n",
       "      <td>0.0</td>\n",
       "      <td>0.0</td>\n",
       "      <td>0.0</td>\n",
       "      <td>0.0</td>\n",
       "      <td>0.090137</td>\n",
       "      <td>0.0</td>\n",
       "      <td>0.0</td>\n",
       "      <td>0.0</td>\n",
       "    </tr>\n",
       "    <tr>\n",
       "      <th>5207</th>\n",
       "      <td>0</td>\n",
       "      <td>70.0</td>\n",
       "      <td>1</td>\n",
       "      <td>5</td>\n",
       "      <td>0.000000</td>\n",
       "      <td>0.0</td>\n",
       "      <td>0.0</td>\n",
       "      <td>0.0</td>\n",
       "      <td>0.0</td>\n",
       "      <td>0.0</td>\n",
       "      <td>...</td>\n",
       "      <td>0.0</td>\n",
       "      <td>0.0</td>\n",
       "      <td>0.0</td>\n",
       "      <td>0.0</td>\n",
       "      <td>0.0</td>\n",
       "      <td>0.0</td>\n",
       "      <td>0.000000</td>\n",
       "      <td>0.0</td>\n",
       "      <td>0.0</td>\n",
       "      <td>0.0</td>\n",
       "    </tr>\n",
       "    <tr>\n",
       "      <th>5208</th>\n",
       "      <td>0</td>\n",
       "      <td>30.0</td>\n",
       "      <td>1</td>\n",
       "      <td>2</td>\n",
       "      <td>0.000000</td>\n",
       "      <td>0.0</td>\n",
       "      <td>0.0</td>\n",
       "      <td>0.0</td>\n",
       "      <td>0.0</td>\n",
       "      <td>0.0</td>\n",
       "      <td>...</td>\n",
       "      <td>0.0</td>\n",
       "      <td>0.0</td>\n",
       "      <td>0.0</td>\n",
       "      <td>0.0</td>\n",
       "      <td>0.0</td>\n",
       "      <td>0.0</td>\n",
       "      <td>0.000000</td>\n",
       "      <td>0.0</td>\n",
       "      <td>0.0</td>\n",
       "      <td>0.0</td>\n",
       "    </tr>\n",
       "  </tbody>\n",
       "</table>\n",
       "<p>5 rows × 809 columns</p>\n",
       "</div>"
      ],
      "text/plain": [
       "      module   age  sex  site   abdomen  abdominal  able  accident  according  \\\n",
       "5204       0  42.0    1     5  0.242315        0.0   0.0       0.0        0.0   \n",
       "5205       0  14.0    2     4  0.000000        0.0   0.0       0.0        0.0   \n",
       "5206       0  80.0    2     5  0.000000        0.0   0.0       0.0        0.0   \n",
       "5207       0  70.0    1     5  0.000000        0.0   0.0       0.0        0.0   \n",
       "5208       0  30.0    1     2  0.000000        0.0   0.0       0.0        0.0   \n",
       "\n",
       "      ache  ...  worsen  worsened  worst  wound  wrong  xray      year  \\\n",
       "5204   0.0  ...     0.0       0.0    0.0    0.0    0.0   0.0  0.132404   \n",
       "5205   0.0  ...     0.0       0.0    0.0    0.0    0.0   0.0  0.000000   \n",
       "5206   0.0  ...     0.0       0.0    0.0    0.0    0.0   0.0  0.090137   \n",
       "5207   0.0  ...     0.0       0.0    0.0    0.0    0.0   0.0  0.000000   \n",
       "5208   0.0  ...     0.0       0.0    0.0    0.0    0.0   0.0  0.000000   \n",
       "\n",
       "      yellow  yellowish  young  \n",
       "5204     0.0        0.0    0.0  \n",
       "5205     0.0        0.0    0.0  \n",
       "5206     0.0        0.0    0.0  \n",
       "5207     0.0        0.0    0.0  \n",
       "5208     0.0        0.0    0.0  \n",
       "\n",
       "[5 rows x 809 columns]"
      ]
     },
     "execution_count": 26,
     "metadata": {},
     "output_type": "execute_result"
    }
   ],
   "source": [
    "dataF = pd.concat([dataB, data], axis=1,)\n",
    "dataF.tail(5)"
   ]
  },
  {
   "cell_type": "code",
   "execution_count": 27,
   "id": "8e9d3b19",
   "metadata": {},
   "outputs": [
    {
     "data": {
      "text/html": [
       "<div>\n",
       "<style scoped>\n",
       "    .dataframe tbody tr th:only-of-type {\n",
       "        vertical-align: middle;\n",
       "    }\n",
       "\n",
       "    .dataframe tbody tr th {\n",
       "        vertical-align: top;\n",
       "    }\n",
       "\n",
       "    .dataframe thead th {\n",
       "        text-align: right;\n",
       "    }\n",
       "</style>\n",
       "<table border=\"1\" class=\"dataframe\">\n",
       "  <thead>\n",
       "    <tr style=\"text-align: right;\">\n",
       "      <th></th>\n",
       "      <th>gs_text34</th>\n",
       "    </tr>\n",
       "  </thead>\n",
       "  <tbody>\n",
       "    <tr>\n",
       "      <th>5204</th>\n",
       "      <td>Endocrine, Nutritional and Metabolic Diseases</td>\n",
       "    </tr>\n",
       "    <tr>\n",
       "      <th>5205</th>\n",
       "      <td>Other Infectious Diseases</td>\n",
       "    </tr>\n",
       "    <tr>\n",
       "      <th>5206</th>\n",
       "      <td>Diseases of Respiratory System</td>\n",
       "    </tr>\n",
       "    <tr>\n",
       "      <th>5207</th>\n",
       "      <td>Other Cardiovascular Diseases</td>\n",
       "    </tr>\n",
       "    <tr>\n",
       "      <th>5208</th>\n",
       "      <td>External Causes of Morbidity and Mortality</td>\n",
       "    </tr>\n",
       "  </tbody>\n",
       "</table>\n",
       "</div>"
      ],
      "text/plain": [
       "                                          gs_text34\n",
       "5204  Endocrine, Nutritional and Metabolic Diseases\n",
       "5205                      Other Infectious Diseases\n",
       "5206                 Diseases of Respiratory System\n",
       "5207                  Other Cardiovascular Diseases\n",
       "5208     External Causes of Morbidity and Mortality"
      ]
     },
     "execution_count": 27,
     "metadata": {},
     "output_type": "execute_result"
    }
   ],
   "source": [
    "values = pd.read_csv(\"data_output/preproceso.csv\")\n",
    "values = values.get(['gs_text34'],1)\n",
    "values.tail(5)"
   ]
  },
  {
   "cell_type": "code",
   "execution_count": 28,
   "id": "e583aaff",
   "metadata": {},
   "outputs": [],
   "source": [
    "from sklearn.model_selection import train_test_split\n",
    "\n",
    "#\n",
    "# Create Training and Test Split\n",
    "#\n",
    "x_train_tf, x_test_tf, y_train_tf, y_test_tf = train_test_split(dataF, values, random_state=42, test_size=0.2)"
   ]
  },
  {
   "cell_type": "code",
   "execution_count": 29,
   "id": "81dfc8cd",
   "metadata": {},
   "outputs": [
    {
     "data": {
      "text/html": [
       "<div>\n",
       "<style scoped>\n",
       "    .dataframe tbody tr th:only-of-type {\n",
       "        vertical-align: middle;\n",
       "    }\n",
       "\n",
       "    .dataframe tbody tr th {\n",
       "        vertical-align: top;\n",
       "    }\n",
       "\n",
       "    .dataframe thead th {\n",
       "        text-align: right;\n",
       "    }\n",
       "</style>\n",
       "<table border=\"1\" class=\"dataframe\">\n",
       "  <thead>\n",
       "    <tr style=\"text-align: right;\">\n",
       "      <th></th>\n",
       "      <th>module</th>\n",
       "      <th>age</th>\n",
       "      <th>sex</th>\n",
       "      <th>site</th>\n",
       "      <th>abdomen</th>\n",
       "      <th>abdominal</th>\n",
       "      <th>able</th>\n",
       "      <th>accident</th>\n",
       "      <th>according</th>\n",
       "      <th>ache</th>\n",
       "      <th>...</th>\n",
       "      <th>worsen</th>\n",
       "      <th>worsened</th>\n",
       "      <th>worst</th>\n",
       "      <th>wound</th>\n",
       "      <th>wrong</th>\n",
       "      <th>xray</th>\n",
       "      <th>year</th>\n",
       "      <th>yellow</th>\n",
       "      <th>yellowish</th>\n",
       "      <th>young</th>\n",
       "    </tr>\n",
       "  </thead>\n",
       "  <tbody>\n",
       "    <tr>\n",
       "      <th>45</th>\n",
       "      <td>0</td>\n",
       "      <td>48.0</td>\n",
       "      <td>2</td>\n",
       "      <td>0</td>\n",
       "      <td>0.0</td>\n",
       "      <td>0.0</td>\n",
       "      <td>0.0</td>\n",
       "      <td>0.0</td>\n",
       "      <td>0.0</td>\n",
       "      <td>0.0</td>\n",
       "      <td>...</td>\n",
       "      <td>0.0</td>\n",
       "      <td>0.000000</td>\n",
       "      <td>0.0</td>\n",
       "      <td>0.0</td>\n",
       "      <td>0.0</td>\n",
       "      <td>0.0</td>\n",
       "      <td>0.000000</td>\n",
       "      <td>0.0</td>\n",
       "      <td>0.0</td>\n",
       "      <td>0.0</td>\n",
       "    </tr>\n",
       "    <tr>\n",
       "      <th>3467</th>\n",
       "      <td>1</td>\n",
       "      <td>0.0</td>\n",
       "      <td>2</td>\n",
       "      <td>1</td>\n",
       "      <td>0.0</td>\n",
       "      <td>0.0</td>\n",
       "      <td>0.0</td>\n",
       "      <td>0.0</td>\n",
       "      <td>0.0</td>\n",
       "      <td>0.0</td>\n",
       "      <td>...</td>\n",
       "      <td>0.0</td>\n",
       "      <td>0.000000</td>\n",
       "      <td>0.0</td>\n",
       "      <td>0.0</td>\n",
       "      <td>0.0</td>\n",
       "      <td>0.0</td>\n",
       "      <td>0.000000</td>\n",
       "      <td>0.0</td>\n",
       "      <td>0.0</td>\n",
       "      <td>0.0</td>\n",
       "    </tr>\n",
       "    <tr>\n",
       "      <th>2484</th>\n",
       "      <td>0</td>\n",
       "      <td>50.0</td>\n",
       "      <td>1</td>\n",
       "      <td>5</td>\n",
       "      <td>0.0</td>\n",
       "      <td>0.0</td>\n",
       "      <td>0.0</td>\n",
       "      <td>0.0</td>\n",
       "      <td>0.0</td>\n",
       "      <td>0.0</td>\n",
       "      <td>...</td>\n",
       "      <td>0.0</td>\n",
       "      <td>0.000000</td>\n",
       "      <td>0.0</td>\n",
       "      <td>0.0</td>\n",
       "      <td>0.0</td>\n",
       "      <td>0.0</td>\n",
       "      <td>0.174734</td>\n",
       "      <td>0.0</td>\n",
       "      <td>0.0</td>\n",
       "      <td>0.0</td>\n",
       "    </tr>\n",
       "    <tr>\n",
       "      <th>3703</th>\n",
       "      <td>2</td>\n",
       "      <td>0.0</td>\n",
       "      <td>1</td>\n",
       "      <td>1</td>\n",
       "      <td>0.0</td>\n",
       "      <td>0.0</td>\n",
       "      <td>0.0</td>\n",
       "      <td>0.0</td>\n",
       "      <td>0.0</td>\n",
       "      <td>0.0</td>\n",
       "      <td>...</td>\n",
       "      <td>0.0</td>\n",
       "      <td>0.000000</td>\n",
       "      <td>0.0</td>\n",
       "      <td>0.0</td>\n",
       "      <td>0.0</td>\n",
       "      <td>0.0</td>\n",
       "      <td>0.000000</td>\n",
       "      <td>0.0</td>\n",
       "      <td>0.0</td>\n",
       "      <td>0.0</td>\n",
       "    </tr>\n",
       "    <tr>\n",
       "      <th>3379</th>\n",
       "      <td>0</td>\n",
       "      <td>63.0</td>\n",
       "      <td>1</td>\n",
       "      <td>5</td>\n",
       "      <td>0.0</td>\n",
       "      <td>0.0</td>\n",
       "      <td>0.0</td>\n",
       "      <td>0.0</td>\n",
       "      <td>0.0</td>\n",
       "      <td>0.0</td>\n",
       "      <td>...</td>\n",
       "      <td>0.0</td>\n",
       "      <td>0.247879</td>\n",
       "      <td>0.0</td>\n",
       "      <td>0.0</td>\n",
       "      <td>0.0</td>\n",
       "      <td>0.0</td>\n",
       "      <td>0.000000</td>\n",
       "      <td>0.0</td>\n",
       "      <td>0.0</td>\n",
       "      <td>0.0</td>\n",
       "    </tr>\n",
       "  </tbody>\n",
       "</table>\n",
       "<p>5 rows × 809 columns</p>\n",
       "</div>"
      ],
      "text/plain": [
       "      module   age  sex  site  abdomen  abdominal  able  accident  according  \\\n",
       "45         0  48.0    2     0      0.0        0.0   0.0       0.0        0.0   \n",
       "3467       1   0.0    2     1      0.0        0.0   0.0       0.0        0.0   \n",
       "2484       0  50.0    1     5      0.0        0.0   0.0       0.0        0.0   \n",
       "3703       2   0.0    1     1      0.0        0.0   0.0       0.0        0.0   \n",
       "3379       0  63.0    1     5      0.0        0.0   0.0       0.0        0.0   \n",
       "\n",
       "      ache  ...  worsen  worsened  worst  wound  wrong  xray      year  \\\n",
       "45     0.0  ...     0.0  0.000000    0.0    0.0    0.0   0.0  0.000000   \n",
       "3467   0.0  ...     0.0  0.000000    0.0    0.0    0.0   0.0  0.000000   \n",
       "2484   0.0  ...     0.0  0.000000    0.0    0.0    0.0   0.0  0.174734   \n",
       "3703   0.0  ...     0.0  0.000000    0.0    0.0    0.0   0.0  0.000000   \n",
       "3379   0.0  ...     0.0  0.247879    0.0    0.0    0.0   0.0  0.000000   \n",
       "\n",
       "      yellow  yellowish  young  \n",
       "45       0.0        0.0    0.0  \n",
       "3467     0.0        0.0    0.0  \n",
       "2484     0.0        0.0    0.0  \n",
       "3703     0.0        0.0    0.0  \n",
       "3379     0.0        0.0    0.0  \n",
       "\n",
       "[5 rows x 809 columns]"
      ]
     },
     "execution_count": 29,
     "metadata": {},
     "output_type": "execute_result"
    }
   ],
   "source": [
    "x_train_tf.head(5)"
   ]
  },
  {
   "cell_type": "code",
   "execution_count": 30,
   "id": "b68727ac",
   "metadata": {},
   "outputs": [
    {
     "data": {
      "text/html": [
       "<div>\n",
       "<style scoped>\n",
       "    .dataframe tbody tr th:only-of-type {\n",
       "        vertical-align: middle;\n",
       "    }\n",
       "\n",
       "    .dataframe tbody tr th {\n",
       "        vertical-align: top;\n",
       "    }\n",
       "\n",
       "    .dataframe thead th {\n",
       "        text-align: right;\n",
       "    }\n",
       "</style>\n",
       "<table border=\"1\" class=\"dataframe\">\n",
       "  <thead>\n",
       "    <tr style=\"text-align: right;\">\n",
       "      <th></th>\n",
       "      <th>gs_text34</th>\n",
       "    </tr>\n",
       "  </thead>\n",
       "  <tbody>\n",
       "    <tr>\n",
       "      <th>45</th>\n",
       "      <td>Neoplasms</td>\n",
       "    </tr>\n",
       "    <tr>\n",
       "      <th>3467</th>\n",
       "      <td>Diseases of Respiratory System</td>\n",
       "    </tr>\n",
       "    <tr>\n",
       "      <th>2484</th>\n",
       "      <td>Endocrine, Nutritional and Metabolic Diseases</td>\n",
       "    </tr>\n",
       "    <tr>\n",
       "      <th>3703</th>\n",
       "      <td>Pregnancy, childbirth and the puerperiu</td>\n",
       "    </tr>\n",
       "    <tr>\n",
       "      <th>3379</th>\n",
       "      <td>Other Cardiovascular Diseases</td>\n",
       "    </tr>\n",
       "  </tbody>\n",
       "</table>\n",
       "</div>"
      ],
      "text/plain": [
       "                                          gs_text34\n",
       "45                                        Neoplasms\n",
       "3467                 Diseases of Respiratory System\n",
       "2484  Endocrine, Nutritional and Metabolic Diseases\n",
       "3703        Pregnancy, childbirth and the puerperiu\n",
       "3379                  Other Cardiovascular Diseases"
      ]
     },
     "execution_count": 30,
     "metadata": {},
     "output_type": "execute_result"
    }
   ],
   "source": [
    "y_train_tf.head(5)"
   ]
  },
  {
   "cell_type": "code",
   "execution_count": 31,
   "id": "3e463d52",
   "metadata": {},
   "outputs": [],
   "source": [
    "from sklearn.preprocessing import StandardScaler\n",
    "\n",
    "# scalling the input data\n",
    "sc_X = StandardScaler() \n",
    "x_train_tf = sc_X.fit_transform(x_train_tf)\n",
    "x_test_tf = sc_X.fit_transform(x_test_tf)"
   ]
  },
  {
   "cell_type": "markdown",
   "id": "d40b8742",
   "metadata": {},
   "source": [
    "<hr>"
   ]
  },
  {
   "cell_type": "markdown",
   "id": "9311273b",
   "metadata": {},
   "source": [
    "<h2>Baseline</h2>"
   ]
  },
  {
   "cell_type": "code",
   "execution_count": 32,
   "id": "f9a49ced",
   "metadata": {},
   "outputs": [],
   "source": [
    "import seaborn as sns\n",
    "import matplotlib.pyplot as plt\n",
    "from sklearn.datasets import fetch_20newsgroups\n",
    "from sklearn.feature_extraction.text import TfidfVectorizer\n",
    "from sklearn.naive_bayes import MultinomialNB\n",
    "from sklearn.pipeline import make_pipeline\n",
    "from sklearn.metrics import confusion_matrix, accuracy_score"
   ]
  },
  {
   "cell_type": "code",
   "execution_count": 33,
   "id": "92a3a2d2",
   "metadata": {},
   "outputs": [
    {
     "name": "stdout",
     "output_type": "stream",
     "text": [
      "We have 18 unique classes\n",
      "We have 4167 training samples\n",
      "We have 1042 test samples\n"
     ]
    }
   ],
   "source": [
    "print(\"We have {} unique classes\".format(len(values[\"gs_text34\"].unique())))\n",
    "print(\"We have {} training samples\".format(len(x_train_tf)))\n",
    "print(\"We have {} test samples\".format(len(x_test_tf)))"
   ]
  },
  {
   "cell_type": "code",
   "execution_count": null,
   "id": "bfdc60c4",
   "metadata": {},
   "outputs": [],
   "source": [
    "from sklearn.naive_bayes import BernoulliNB\n",
    "\n",
    "alpha = [0.0,1.0,2.0]\n",
    "binarize = [0.0,1.0]\n",
    "fit_prior = [True, False]\n",
    "\n",
    "best = 0.0\n",
    "\n",
    "for a in alpha:\n",
    "    for b in binarize:\n",
    "        for fp in fit_prior:\n",
    "            # initializaing the NB\n",
    "            classifer = BernoulliNB(alpha=a,binarize=b,fit_prior=fp)\n",
    "\n",
    "            # training the model\n",
    "            classifer.fit(x_train_tf, y_train_tf)\n",
    "\n",
    "            # testing the model\n",
    "            y_pred_tf = classifer.predict(x_test_tf)\n",
    "\n",
    "            print(accuracy_score(y_pred_tf, y_test_tf))\n",
    "\n",
    "            if accuracy_score(y_pred_tf, y_test_tf) > best:\n",
    "                best = accuracy_score(y_pred_tf, y_test_tf)\n",
    "                bestC = classifer\n",
    "                bestPred = y_pred_tf"
   ]
  },
  {
   "cell_type": "code",
   "execution_count": 42,
   "id": "f20727a7",
   "metadata": {},
   "outputs": [
    {
     "name": "stdout",
     "output_type": "stream",
     "text": [
      "0.45201535508637236\n"
     ]
    }
   ],
   "source": [
    "# importing accuracy score\n",
    "from sklearn.metrics import accuracy_score\n",
    "\n",
    "# printing the accuracy of the model\n",
    "print(accuracy_score(bestPred, y_test_tf))"
   ]
  },
  {
   "cell_type": "code",
   "execution_count": 36,
   "id": "ca7ff2cb",
   "metadata": {},
   "outputs": [
    {
     "data": {
      "text/plain": [
       "<AxesSubplot: >"
      ]
     },
     "execution_count": 36,
     "metadata": {},
     "output_type": "execute_result"
    },
    {
     "data": {
      "image/png": "[encoded data removed]",
      "text/plain": [
       "<Figure size 640x480 with 2 Axes>"
      ]
     },
     "metadata": {},
     "output_type": "display_data"
    }
   ],
   "source": [
    "import seaborn as sns\n",
    "from sklearn.metrics import confusion_matrix\n",
    "\n",
    "# passing actual and predicted values\n",
    "cm = confusion_matrix(y_test_tf, bestPred)\n",
    "\n",
    "# true write data values in each cell of the matrix\n",
    "sns.heatmap(cm, annot=True)"
   ]
  },
  {
   "cell_type": "code",
   "execution_count": 37,
   "id": "a6880fe3",
   "metadata": {},
   "outputs": [
    {
     "name": "stdout",
     "output_type": "stream",
     "text": [
      "                                               precision    recall  f1-score   support\n",
      "\n",
      "                               Birth asphyxia       0.46      0.44      0.45        39\n",
      "    Certain infectious and Parasitic Diseases       0.36      0.68      0.47       127\n",
      "                      Congenital malformation       0.24      0.23      0.23        22\n",
      "               Diseases of Respiratory System       0.41      0.15      0.22       128\n",
      "             Diseases of the Digestive System       0.23      0.09      0.13        34\n",
      "         Diseases of the Genitourinary System       0.29      0.23      0.25        31\n",
      "               Diseases of the Nervous System       0.00      0.00      0.00         2\n",
      "           Diseases of the circulatory system       0.50      0.49      0.50        89\n",
      "Endocrine, Nutritional and Metabolic Diseases       0.17      0.12      0.14        25\n",
      "   External Causes of Morbidity and Mortality       0.49      0.84      0.62       150\n",
      "                            Hemorrhagic fever       0.00      0.00      0.00         4\n",
      "        Injury, Poisoning and External Causes       0.59      0.37      0.45        27\n",
      "                                    Neoplasms       0.42      0.45      0.43        44\n",
      "                Other Cardiovascular Diseases       0.23      0.10      0.14        51\n",
      "         Other Defined Causes of Child Deaths       0.00      0.00      0.00        13\n",
      "                    Other Infectious Diseases       0.29      0.17      0.21        35\n",
      "              Other Non-communicable Diseases       0.21      0.11      0.14        55\n",
      "      Pregnancy, childbirth and the puerperiu       0.78      0.69      0.73       166\n",
      "\n",
      "                                     accuracy                           0.45      1042\n",
      "                                    macro avg       0.31      0.29      0.28      1042\n",
      "                                 weighted avg       0.44      0.45      0.42      1042\n",
      "\n"
     ]
    }
   ],
   "source": [
    "# importing classification report\n",
    "from sklearn.metrics import classification_report\n",
    "\n",
    "# printing the report\n",
    "print(classification_report(y_test_tf, bestPred))"
   ]
  },
  {
   "attachments": {},
   "cell_type": "markdown",
   "id": "02b9b87a",
   "metadata": {},
   "source": [
    "<hr>"
   ]
  },
  {
   "attachments": {},
   "cell_type": "markdown",
   "id": "9311273b",
   "metadata": {},
   "source": [
    "<h2>Neural Network</h2>"
   ]
  },
  {
   "cell_type": "code",
   "execution_count": 16,
   "id": "cd399d47",
   "metadata": {},
   "outputs": [
    {
     "name": "stderr",
     "output_type": "stream",
     "text": [
      "2022-12-11 15:07:22.001390: I tensorflow/core/platform/cpu_feature_guard.cc:193] This TensorFlow binary is optimized with oneAPI Deep Neural Network Library (oneDNN) to use the following CPU instructions in performance-critical operations:  AVX2 FMA\n",
      "To enable them in other operations, rebuild TensorFlow with the appropriate compiler flags.\n",
      "2022-12-11 15:07:22.491709: W tensorflow/compiler/xla/stream_executor/platform/default/dso_loader.cc:64] Could not load dynamic library 'libcudart.so.11.0'; dlerror: libcudart.so.11.0: cannot open shared object file: No such file or directory\n",
      "2022-12-11 15:07:22.491767: I tensorflow/compiler/xla/stream_executor/cuda/cudart_stub.cc:29] Ignore above cudart dlerror if you do not have a GPU set up on your machine.\n",
      "2022-12-11 15:07:24.943444: W tensorflow/compiler/xla/stream_executor/platform/default/dso_loader.cc:64] Could not load dynamic library 'libnvinfer.so.7'; dlerror: libnvinfer.so.7: cannot open shared object file: No such file or directory\n",
      "2022-12-11 15:07:24.943729: W tensorflow/compiler/xla/stream_executor/platform/default/dso_loader.cc:64] Could not load dynamic library 'libnvinfer_plugin.so.7'; dlerror: libnvinfer_plugin.so.7: cannot open shared object file: No such file or directory\n",
      "2022-12-11 15:07:24.943770: W tensorflow/compiler/tf2tensorrt/utils/py_utils.cc:38] TF-TRT Warning: Cannot dlopen some TensorRT libraries. If you would like to use Nvidia GPU with TensorRT, please make sure the missing libraries mentioned above are installed properly.\n"
     ]
    }
   ],
   "source": [
    "import numpy as np\n",
    "import pandas as pd\n",
    "import matplotlib.pyplot as plt\n",
    "import seaborn as sns\n",
    "from sklearn.model_selection import train_test_split\n",
    "from sklearn.model_selection import cross_val_score\n",
    "from keras.models import Sequential\n",
    "from keras.layers import Dense, BatchNormalization, Dropout\n",
    "from keras.optimizers import Adam, SGD, RMSprop, Adadelta, Adagrad, Adamax, Nadam, Ftrl\n",
    "from keras.callbacks import EarlyStopping, ModelCheckpoint\n",
    "from keras.wrappers.scikit_learn import KerasClassifier\n",
    "from math import floor\n",
    "from sklearn.metrics import make_scorer, accuracy_score\n",
    "import BayesianOptimization\n",
    "from sklearn.model_selection import StratifiedKFold\n",
    "from keras.layers import LeakyReLU\n",
    "import numpy as np\n",
    "from sklearn import metrics\n",
    "from sklearn.neural_network import MLPClassifier\n",
    "from sklearn.model_selection import train_test_split\n",
    "from sklearn.feature_extraction.text import TfidfTransformer\n",
    "from sklearn.neural_network import MLPClassifier\n",
    "from sklearn.model_selection import RandomizedSearchCV\n",
    "from sklearn.model_selection import GridSearchCV\n",
    "from sklearn.model_selection import KFold\n",
    "import multiprocessing\n",
    "LeakyReLU = LeakyReLU(alpha=0.1)"
   ]
  },
  {
   "cell_type": "code",
   "execution_count": 46,
   "id": "3b411101",
   "metadata": {},
   "outputs": [
    {
     "name": "stderr",
     "output_type": "stream",
     "text": [
      "/home/peio/anaconda3/envs/md/lib/python3.10/site-packages/sklearn/neural_network/_multilayer_perceptron.py:702: ConvergenceWarning: Stochastic Optimizer: Maximum iterations (5) reached and the optimization hasn't converged yet.\n",
      "  warnings.warn(\n"
     ]
    },
    {
     "name": "stdout",
     "output_type": "stream",
     "text": [
      "Mean accuracy of predictions:0.4952015355086372\n",
      "8\n",
      "(4000,)\n"
     ]
    },
    {
     "name": "stderr",
     "output_type": "stream",
     "text": [
      "/home/peio/anaconda3/envs/md/lib/python3.10/site-packages/sklearn/neural_network/_multilayer_perceptron.py:1118: DataConversionWarning: A column-vector y was passed when a 1d array was expected. Please change the shape of y to (n_samples, ), for example using ravel().\n",
      "  y = column_or_1d(y, warn=True)\n",
      "/home/peio/anaconda3/envs/md/lib/python3.10/site-packages/sklearn/neural_network/_multilayer_perceptron.py:702: ConvergenceWarning: Stochastic Optimizer: Maximum iterations (5) reached and the optimization hasn't converged yet.\n",
      "  warnings.warn(\n"
     ]
    },
    {
     "name": "stdout",
     "output_type": "stream",
     "text": [
      "Mean accuracy of predictions:0.4875239923224568\n"
     ]
    }
   ],
   "source": [
    "layers = [(10,),(50,),(100,),(200,),(500,),(1000,),(2000,),(4000,)]\n",
    "\n",
    "best = []\n",
    "bestScore = 0\n",
    "\n",
    "i = 1\n",
    "\n",
    "resultados = {}\n",
    "\n",
    "\n",
    "for hls in layers:\n",
    "\n",
    "        print(i)\n",
    "        print(hls)\n",
    "        \n",
    "        classifer = MLPClassifier(hidden_layer_sizes=hls, max_iter=5)\n",
    "        classifer.fit(x_train_tf,y_train_tf)\n",
    "\n",
    "        predictions = classifer.predict(x_test_tf)\n",
    "        score = metrics.accuracy_score(y_test_tf, predictions)\n",
    "        print(\"Mean accuracy of predictions:\" + str(score))\n",
    "\n",
    "        resultados[hls[0]] = score \n",
    "        \n",
    "        i += 1"
   ]
  },
  {
   "cell_type": "code",
   "execution_count": 56,
   "id": "df958e36",
   "metadata": {},
   "outputs": [
    {
     "data": {
      "image/png": "[encoded data removed]",
      "text/plain": [
       "<Figure size 640x480 with 1 Axes>"
      ]
     },
     "metadata": {},
     "output_type": "display_data"
    }
   ],
   "source": [
    "import matplotlib.pyplot as plt\n",
    "\n",
    "plt.plot([*resultados],list(resultados.values()))\n",
    "plt.xlabel('Accuracy')\n",
    "plt.ylabel('Nº neeronas')\n",
    "plt.show()"
   ]
  },
  {
   "cell_type": "code",
   "execution_count": null,
   "id": "58658fef",
   "metadata": {},
   "outputs": [],
   "source": [
    "layers = [(1000,),(1000,1000),(1000,1000,1000)]\n",
    "\n",
    "best = []\n",
    "bestScore = 0\n",
    "\n",
    "i = 1\n",
    "\n",
    "resultados = {}\n",
    "\n",
    "\n",
    "for hls in layers:\n",
    "\n",
    "        print(i)\n",
    "        print(hls)\n",
    "        \n",
    "        classifer = MLPClassifier(hidden_layer_sizes=hls, max_iter=5)\n",
    "        classifer.fit(x_train_tf,y_train_tf)\n",
    "\n",
    "        predictions = classifer.predict(x_test_tf)\n",
    "        score = metrics.accuracy_score(y_test_tf, predictions)\n",
    "        print(\"Mean accuracy of predictions:\" + str(score))\n",
    "\n",
    "        resultados[i] = score \n",
    "        \n",
    "        i += 1"
   ]
  },
  {
   "cell_type": "code",
   "execution_count": null,
   "id": "06d27095",
   "metadata": {},
   "outputs": [
    {
     "data": {
      "image/png": "[encoded data removed]",
      "text/plain": [
       "<Figure size 640x480 with 1 Axes>"
      ]
     },
     "metadata": {},
     "output_type": "display_data"
    }
   ],
   "source": [
    "import matplotlib.pyplot as plt\n",
    "\n",
    "plt.plot([*resultados],list(resultados.values()))\n",
    "plt.xlabel('Accuracy')\n",
    "plt.ylabel('Nº capas')\n",
    "plt.show()"
   ]
  },
  {
   "cell_type": "code",
   "execution_count": null,
   "id": "8faa168c",
   "metadata": {},
   "outputs": [],
   "source": [
    "n_iters = [3,5,10,20]\n",
    "\n",
    "best = []\n",
    "bestScore = 0\n",
    "\n",
    "i = 1\n",
    "\n",
    "resultados = {}\n",
    "\n",
    "\n",
    "for n in n_iters:\n",
    "\n",
    "        print(i)\n",
    "        \n",
    "        classifer = MLPClassifier(hidden_layer_sizes=(1000,), max_iter=n)\n",
    "        classifer.fit(x_train_tf,y_train_tf)\n",
    "\n",
    "        predictions = classifer.predict(x_test_tf)\n",
    "        score = metrics.accuracy_score(y_test_tf, predictions)\n",
    "        print(\"Mean accuracy of predictions:\" + str(score))\n",
    "\n",
    "        resultados[n] = score \n",
    "        \n",
    "        i += 1"
   ]
  },
  {
   "cell_type": "code",
   "execution_count": 61,
   "id": "86eb4823",
   "metadata": {},
   "outputs": [
    {
     "data": {
      "image/png": "[encoded data removed]",
      "text/plain": [
       "<Figure size 640x480 with 1 Axes>"
      ]
     },
     "metadata": {},
     "output_type": "display_data"
    }
   ],
   "source": [
    "plt.plot([*resultados],list(resultados.values()))\n",
    "plt.xlabel('Accuracy')\n",
    "plt.ylabel('Nº iteraciones')\n",
    "plt.show()"
   ]
  },
  {
   "cell_type": "code",
   "execution_count": null,
   "id": "ab5f0df7",
   "metadata": {},
   "outputs": [],
   "source": [
    "layers = [(100,100),(100,),(200,100,100), (200,100,100,100)]\n",
    "activation = ['relu','tanh']\n",
    "solver = ['adam','lbfgs', 'sgd']\n",
    "alpha = [0.0001]\n",
    "learning_rate = ['constant','adaptive','invscaling']\n",
    "learning_init = [0.001,0.01]\n",
    "iteraciones = [3,5]\n",
    "\n",
    "best = []\n",
    "bestScore = 0\n",
    "\n",
    "i = 1\n",
    "\n",
    "for lri in learning_init:\n",
    "    for a in activation:\n",
    "        for s in solver:\n",
    "            for alp in alpha:\n",
    "                for lr in learning_rate:\n",
    "                    for hls in layers:\n",
    "                        for it in iteraciones:\n",
    "\n",
    "                            print(i)\n",
    "                            print([hls, a, s, alp, lr, lri, it])\n",
    "                            \n",
    "                            classifer = MLPClassifier(hidden_layer_sizes=hls, max_iter=it, activation=a, solver=s, random_state=762, alpha=alp, learning_rate=lr, learning_rate_init=lri)\n",
    "                            classifer.fit(x_train_tf,y_train_tf)\n",
    "\n",
    "                            predictions = classifer.predict(x_test_tf)\n",
    "                            score = metrics.accuracy_score(y_test_tf, predictions)\n",
    "                            print(\"Mean accuracy of predictions:\" + str(score))\n",
    "\n",
    "                            if score > bestScore:\n",
    "                                best = [hls, a, s, alp, lr, lri, it]\n",
    "                                bestScore = score\n",
    "                            \n",
    "                            i += 1\n"
   ]
  },
  {
   "cell_type": "code",
   "execution_count": 18,
   "id": "41a65e0b",
   "metadata": {},
   "outputs": [
    {
     "name": "stdout",
     "output_type": "stream",
     "text": [
      "Best score: 0.4923224568138196\n",
      "Best params: [(200, 100, 100), 'tanh', 'adam', 0.0001, 'constant', 0.001, 3]\n"
     ]
    }
   ],
   "source": [
    "print('Best score: ' + str(bestScore))\n",
    "print('Best params: ' + str(best))"
   ]
  },
  {
   "cell_type": "code",
   "execution_count": 62,
   "id": "4d44ab1c",
   "metadata": {},
   "outputs": [
    {
     "name": "stderr",
     "output_type": "stream",
     "text": [
      "/home/peio/anaconda3/envs/md/lib/python3.10/site-packages/sklearn/neural_network/_multilayer_perceptron.py:1118: DataConversionWarning: A column-vector y was passed when a 1d array was expected. Please change the shape of y to (n_samples, ), for example using ravel().\n",
      "  y = column_or_1d(y, warn=True)\n"
     ]
    },
    {
     "name": "stdout",
     "output_type": "stream",
     "text": [
      "Iteration 1, loss = 2.20535376\n",
      "Iteration 2, loss = 0.91588866\n",
      "Iteration 3, loss = 0.51631213\n"
     ]
    },
    {
     "name": "stderr",
     "output_type": "stream",
     "text": [
      "/home/peio/anaconda3/envs/md/lib/python3.10/site-packages/sklearn/neural_network/_multilayer_perceptron.py:702: ConvergenceWarning: Stochastic Optimizer: Maximum iterations (3) reached and the optimization hasn't converged yet.\n",
      "  warnings.warn(\n"
     ]
    },
    {
     "name": "stdout",
     "output_type": "stream",
     "text": [
      "Mean accuracy of predictions: 0.4952015355086372\n"
     ]
    }
   ],
   "source": [
    "#Utilizando datos obtenidos con las graficas anteriores y a base de prueba y error he determinado que es siguiente clasificador es el mejor\n",
    "classifer = MLPClassifier(hidden_layer_sizes=(4000, 2000, 100),verbose=10, max_iter=3, activation='tanh',random_state=762)\n",
    "classifer.fit(x_train_tf,y_train_tf)\n",
    "\n",
    "predictions = classifer.predict(x_test_tf)\n",
    "score = metrics.accuracy_score(y_test_tf, predictions)\n",
    "print(\"Mean accuracy of predictions: \" + str(score))"
   ]
  },
  {
   "cell_type": "code",
   "execution_count": 20,
   "id": "6992e20b",
   "metadata": {},
   "outputs": [],
   "source": [
    "from sklearn.metrics import confusion_matrix\n",
    "confusionMatrix = confusion_matrix(y_test_tf, predictions)"
   ]
  },
  {
   "cell_type": "code",
   "execution_count": 21,
   "id": "103a6411",
   "metadata": {},
   "outputs": [
    {
     "data": {
      "text/plain": [
       "<sklearn.metrics._plot.confusion_matrix.ConfusionMatrixDisplay at 0x7f880505b400>"
      ]
     },
     "execution_count": 21,
     "metadata": {},
     "output_type": "execute_result"
    },
    {
     "data": {
      "image/png": "[encoded data removed]",
      "text/plain": [
       "<Figure size 640x480 with 2 Axes>"
      ]
     },
     "metadata": {},
     "output_type": "display_data"
    }
   ],
   "source": [
    "from sklearn.metrics import ConfusionMatrixDisplay\n",
    "cm = ConfusionMatrixDisplay(confusion_matrix=confusionMatrix)\n",
    "cm.plot()"
   ]
  },
  {
   "cell_type": "code",
   "execution_count": 22,
   "id": "230d32d7",
   "metadata": {},
   "outputs": [
    {
     "name": "stdout",
     "output_type": "stream",
     "text": [
      "                                               precision    recall  f1-score   support\n",
      "\n",
      "                               Birth asphyxia       0.26      0.13      0.17        39\n",
      "    Certain infectious and Parasitic Diseases       0.47      0.64      0.54       127\n",
      "                      Congenital malformation       0.00      0.00      0.00        22\n",
      "               Diseases of Respiratory System       0.32      0.37      0.34       128\n",
      "             Diseases of the Digestive System       0.44      0.12      0.19        34\n",
      "         Diseases of the Genitourinary System       0.37      0.32      0.34        31\n",
      "               Diseases of the Nervous System       0.00      0.00      0.00         2\n",
      "           Diseases of the circulatory system       0.47      0.66      0.55        89\n",
      "Endocrine, Nutritional and Metabolic Diseases       0.25      0.24      0.24        25\n",
      "   External Causes of Morbidity and Mortality       0.70      0.80      0.75       150\n",
      "                            Hemorrhagic fever       0.00      0.00      0.00         4\n",
      "        Injury, Poisoning and External Causes       0.69      0.41      0.51        27\n",
      "                                    Neoplasms       0.34      0.48      0.40        44\n",
      "                Other Cardiovascular Diseases       0.33      0.12      0.17        51\n",
      "         Other Defined Causes of Child Deaths       0.00      0.00      0.00        13\n",
      "                    Other Infectious Diseases       0.33      0.03      0.05        35\n",
      "              Other Non-communicable Diseases       0.31      0.22      0.26        55\n",
      "      Pregnancy, childbirth and the puerperiu       0.64      0.78      0.71       166\n",
      "\n",
      "                                     accuracy                           0.49      1042\n",
      "                                    macro avg       0.33      0.29      0.29      1042\n",
      "                                 weighted avg       0.46      0.49      0.46      1042\n",
      "\n"
     ]
    },
    {
     "name": "stderr",
     "output_type": "stream",
     "text": [
      "/home/peio/anaconda3/envs/md/lib/python3.10/site-packages/sklearn/metrics/_classification.py:1334: UndefinedMetricWarning: Precision and F-score are ill-defined and being set to 0.0 in labels with no predicted samples. Use `zero_division` parameter to control this behavior.\n",
      "  _warn_prf(average, modifier, msg_start, len(result))\n",
      "/home/peio/anaconda3/envs/md/lib/python3.10/site-packages/sklearn/metrics/_classification.py:1334: UndefinedMetricWarning: Precision and F-score are ill-defined and being set to 0.0 in labels with no predicted samples. Use `zero_division` parameter to control this behavior.\n",
      "  _warn_prf(average, modifier, msg_start, len(result))\n",
      "/home/peio/anaconda3/envs/md/lib/python3.10/site-packages/sklearn/metrics/_classification.py:1334: UndefinedMetricWarning: Precision and F-score are ill-defined and being set to 0.0 in labels with no predicted samples. Use `zero_division` parameter to control this behavior.\n",
      "  _warn_prf(average, modifier, msg_start, len(result))\n"
     ]
    }
   ],
   "source": [
    "classificationReport = classification_report(y_test_tf, predictions)\n",
    "print(classificationReport)"
   ]
  },
  {
   "cell_type": "code",
   "execution_count": null,
   "id": "24f99b0f",
   "metadata": {},
   "outputs": [],
   "source": []
  }
 ],
 "metadata": {
  "kernelspec": {
   "display_name": "Python 3.10.4 ('md')",
   "language": "python",
   "name": "python3"
  },
  "language_info": {
   "codemirror_mode": {
    "name": "ipython",
    "version": 3
   },
   "file_extension": ".py",
   "mimetype": "text/x-python",
   "name": "python",
   "nbconvert_exporter": "python",
   "pygments_lexer": "ipython3",
   "version": "3.10.4"
  },
  "vscode": {
   "interpreter": {
    "hash": "17668a3252f0274529318a4c14b3a263a7f0a3154d5611c765fcf67a245c8972"
   }
  }
 },
 "nbformat": 4,
 "nbformat_minor": 5
}
